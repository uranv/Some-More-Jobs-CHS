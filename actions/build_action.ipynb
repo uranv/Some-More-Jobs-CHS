{
 "cells": [
  {
   "cell_type": "code",
   "execution_count": 13,
   "id": "7b8f8c0c-f54d-402b-a9bf-5cd706c17a7b",
   "metadata": {
    "tags": []
   },
   "outputs": [],
   "source": [
    "import xml.etree.ElementTree as ET\n",
    "import pandas as pd\n",
    "\n",
    "def extract_settings_from_xml(file_path):\n",
    "    results = []\n",
    "    # Parse the XML file\n",
    "    tree = ET.parse(file_path)\n",
    "    root = tree.getroot()\n",
    "    # Iterate over all <li> elements with Class=\"XmlExtensions.Action.SetSetting\"\n",
    "    for li in root.findall(\".//li[@Class='XmlExtensions.Action.SetSetting']\"):\n",
    "        may_require = li.get(\"MayRequire\", \"0\")  # Default to '0' if MayRequire is not present\n",
    "        # Extract the <key> and <value> elements\n",
    "        key_elem = li.find(\"key\")\n",
    "        value_elem = li.find(\"value\")\n",
    "        if key_elem is not None and key_elem.text and value_elem is not None and value_elem.text:\n",
    "            key_text = key_elem.text.strip()\n",
    "            value_text = value_elem.text.strip()\n",
    "            # Attempt to split the key into two main parts\n",
    "            key_parts = key_text.split(\".\", 1)  # Split into two parts: prefix and the rest\n",
    "            if len(key_parts) == 2:\n",
    "                key_part1, key_part2 = key_parts\n",
    "                results.append([key_part1, key_part2, value_text, may_require])\n",
    "    return results\n",
    "\n",
    "if __name__ == \"__main__\":\n",
    "    file_path = \"scr_action.xml\"  # Replace with your XML file path\n",
    "    extracted_data = extract_settings_from_xml(file_path)\n",
    "    df = pd.DataFrame(extracted_data)\n",
    "    df.to_csv('scr_action.csv', index=False, encoding='utf-8')"
   ]
  },
  {
   "cell_type": "code",
   "execution_count": 17,
   "id": "87dfbbe9-2e4a-4002-b6cc-f6eee72f84cb",
   "metadata": {
    "tags": []
   },
   "outputs": [],
   "source": [
    "import pandas as pd\n",
    "\n",
    "if __name__ == \"__main__\":\n",
    "    dfchs = pd.read_csv('scr_action_chs.csv')\n",
    "    with open(\"scr_action_chs.xml\",\"w\") as f:\n",
    "        f.write(\"<?xml version='1.0' encoding='utf-8' ?>\\n<actions>\\n\")\n",
    "        for i in range(dfchs.shape[0]):\n",
    "            if dfchs.iat[i,3]=='0':\n",
    "                f.write(\"  <li Class='XmlExtensions.Action.SetSetting'>\\n\")        \n",
    "            else:\n",
    "                f.write(\"  <li Class='XmlExtensions.Action.SetSetting' MayRequire='\"+dfchs.iat[i,3]+\"'>\\n\")\n",
    "            f.write(\"    <key>\"+dfchs.iat[i,0]+\".\"+dfchs.iat[i,1]+\"</key>\\n    <value>\"+dfchs.iat[i,2]+\"</value>\\n  </li>\\n\")\n",
    "        f.write(\"</actions>\")"
   ]
  },
  {
   "cell_type": "code",
   "execution_count": null,
   "id": "e249ac26-637b-4088-9e60-31fe702635ee",
   "metadata": {},
   "outputs": [],
   "source": []
  },
  {
   "cell_type": "code",
   "execution_count": null,
   "id": "323fd1e5-2b7a-43f6-a8ba-9ff6682c1338",
   "metadata": {},
   "outputs": [],
   "source": []
  }
 ],
 "metadata": {
  "kernelspec": {
   "display_name": "Python 3 (ipykernel)",
   "language": "python",
   "name": "python3"
  },
  "language_info": {
   "codemirror_mode": {
    "name": "ipython",
    "version": 3
   },
   "file_extension": ".py",
   "mimetype": "text/x-python",
   "name": "python",
   "nbconvert_exporter": "python",
   "pygments_lexer": "ipython3",
   "version": "3.11.5"
  }
 },
 "nbformat": 4,
 "nbformat_minor": 5
}
